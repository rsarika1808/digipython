{
 "cells": [
  {
   "cell_type": "code",
   "execution_count": null,
   "metadata": {},
   "outputs": [],
   "source": [
    "import pandas as pd\n",
    "import numpy as np\n",
    "import matplotlib.pyplot as plt\n",
    "import seaborn as sns"
   ]
  },
  {
   "cell_type": "code",
   "execution_count": null,
   "metadata": {},
   "outputs": [],
   "source": [
    "df=pd.read_csv('incidents_csv',nrows=1000,purse_dates=['Date'])\n",
    "df.shape"
   ]
  },
  {
   "cell_type": "code",
   "execution_count": null,
   "metadata": {},
   "outputs": [],
   "source": [
    "df.info()"
   ]
  },
  {
   "cell_type": "code",
   "execution_count": null,
   "metadata": {},
   "outputs": [],
   "source": [
    "df.head()"
   ]
  },
  {
   "cell_type": "code",
   "execution_count": null,
   "metadata": {},
   "outputs": [],
   "source": [
    "df.columns"
   ]
  },
  {
   "cell_type": "code",
   "execution_count": null,
   "metadata": {},
   "outputs": [],
   "source": [
    "cols_to_drop=['IncidntNum','Address','Location','PdID']\n",
    "df.drop(columns=cols_to_drop,inplace =True)"
   ]
  },
  {
   "cell_type": "code",
   "execution_count": null,
   "metadata": {},
   "outputs": [],
   "source": [
    "df['category']=df['Category'].apply(lambda val:val.lower())\n",
    "df.head()"
   ]
  },
  {
   "cell_type": "code",
   "execution_count": null,
   "metadata": {},
   "outputs": [],
   "source": [
    "df['category']=df['Category'].apply(lambda val:val.lower())\n",
    "df['Descript']=df['Descript'].apply(lambda val:val.lower())\n",
    "df['Resolution']=df['Resolution'].apply(lambda val:val.lower())\n",
    "df['PdDstrict']=df['PdDstrict'].apply(lambda val:val.lower())\n",
    "df.head()"
   ]
  },
  {
   "cell_type": "code",
   "execution_count": null,
   "metadata": {},
   "outputs": [],
   "source": [
    "df['category'].value_counts()"
   ]
  },
  {
   "cell_type": "code",
   "execution_count": null,
   "metadata": {},
   "outputs": [],
   "source": [
    "categorydf=df.groupby(['category','PdDistrict'],as_index=False)['Descript'].count()\n",
    "categorydf"
   ]
  },
  {
   "cell_type": "code",
   "execution_count": null,
   "metadata": {},
   "outputs": [],
   "source": [
    "categorydf[categorydf['category']=='weapon lows'] #filter"
   ]
  },
  {
   "cell_type": "code",
   "execution_count": null,
   "metadata": {},
   "outputs": [],
   "source": [
    "dateframe filtering\n",
    "df[ df['columns']=='valus']"
   ]
  },
  {
   "cell_type": "code",
   "execution_count": null,
   "metadata": {},
   "outputs": [],
   "source": [
    "timeline_df=df[['Date','Category','PdDstrict']].copy()\n",
    "timeline_df.sort_values(by='Date',inplace=True)\n",
    "timeline_df.set_index('Date',inplace =True)"
   ]
  },
  {
   "cell_type": "code",
   "execution_count": null,
   "metadata": {},
   "outputs": [],
   "source": [
    "timeline_df.resample('M').count()['category']"
   ]
  },
  {
   "cell_type": "code",
   "execution_count": null,
   "metadata": {},
   "outputs": [],
   "source": [
    "timeline_df.resample('M').count()['category'].plot(kind='bar')"
   ]
  },
  {
   "cell_type": "code",
   "execution_count": null,
   "metadata": {},
   "outputs": [],
   "source": [
    "timeline_df.resample('3M').count()['category']"
   ]
  },
  {
   "cell_type": "code",
   "execution_count": null,
   "metadata": {},
   "outputs": [],
   "source": [
    "fig,ax=plt.subplot(figsize=(20,5))\n",
    "sns.countplot(df,x='category')\n",
    "plt.striks(rotation=30)\n",
    "plt.show()"
   ]
  },
  {
   "cell_type": "code",
   "execution_count": null,
   "metadata": {},
   "outputs": [],
   "source": [
    "fig,ax=plt.subplot(figsize=(20,5))\n",
    "sns.countplot(df,x='Dayofweek',ax=ax)\n",
    "plt.striks(rotation=30)\n",
    "plt.show()"
   ]
  },
  {
   "cell_type": "code",
   "execution_count": null,
   "metadata": {},
   "outputs": [],
   "source": [
    "fig,ax=plt.subplot(figsize=(20,5))\n",
    "sns.countplot(df,x='PdDstrict',ax=ax)\n",
    "plt.striks(rotation=30)\n",
    "plt.show()"
   ]
  },
  {
   "cell_type": "code",
   "execution_count": null,
   "metadata": {},
   "outputs": [],
   "source": [
    "fig,ax=plt.subplot(figsize=(20,5))\n",
    "sns.countplot(df,x='PdDstrict',ax=ax,hue='Dayofweek')\n",
    "plt.striks(rotation=30)\n",
    "plt.show()"
   ]
  },
  {
   "cell_type": "code",
   "execution_count": null,
   "metadata": {},
   "outputs": [],
   "source": [
    "m=folium.Map(location=lko,zoom_start=12)\n",
    "#add acircle\n",
    "folium.circle(lko,radius=1000,color='red',fill=True).add_to(m)\n",
    "m"
   ]
  },
  {
   "cell_type": "code",
   "execution_count": null,
   "metadata": {},
   "outputs": [],
   "source": [
    "sf=[37.775421,-122.403405]\n",
    "m=folium.Map(location=sf,zoom_start=12)"
   ]
  },
  {
   "cell_type": "code",
   "execution_count": null,
   "metadata": {},
   "outputs": [],
   "source": [
    "for row in df.head().iterrows():\n",
    "    loc=[row[1]['Y'],row[1]['X']]\n",
    "    folium.Marker(loc,radius=5,color='red',fill=True,popup=row[1]['Descript']).add_to(m)"
   ]
  },
  {
   "cell_type": "code",
   "execution_count": null,
   "metadata": {},
   "outputs": [],
   "source": [
    "#adding clusters in map\n",
    "from folium.plugins import MarkerCluster\n",
    "m=folium.Map(locaion=sf,zoom_start=12)\n",
    "clustor=MarkerCluster().add_to(m)\n",
    "\n",
    "for lat,cat in zip(df.Y,df.X,df.Category):\n",
    "    folium.Marker(location=[lat,ing],icon=None,popup=cat).add_to(clustor)\n",
    "\n",
    "m"
   ]
  },
  {
   "cell_type": "code",
   "execution_count": null,
   "metadata": {},
   "outputs": [],
   "source": [
    "import plotly.express as px"
   ]
  },
  {
   "cell_type": "code",
   "execution_count": null,
   "metadata": {},
   "outputs": [],
   "source": [
    "px.choropleth(\n",
    "    data_frame=df,\n",
    "    locationmode='country names',\n",
    "    location=df.index,\n",
    "    color=df['Total']\n",
    "    height=600,\n",
    "    title='Immigration to canada',\n",
    "    color_continuous_scale=px.color.sequential.rainbox\n",
    "    \n",
    "\n",
    ")"
   ]
  },
  {
   "cell_type": "code",
   "execution_count": null,
   "metadata": {},
   "outputs": [],
   "source": [
    "#adding clusters in map \n",
    "from folium.plugins import MarkerCluster\n",
    "m=folium.Map(location=sf,zoom_start=12)\n",
    "clustor =MarkerCluster().add_to(m)\n",
    "for lat,ing ,cat in zip(df.Y,df.X,df.category):\n",
    "    folium.Marker(location=[lat,Ing],popup=cat).add_to(cluster) \n",
    "m"
   ]
  }
 ],
 "metadata": {
  "kernelspec": {
   "display_name": "Python 3.10.4 ('base')",
   "language": "python",
   "name": "python3"
  },
  "language_info": {
   "codemirror_mode": {
    "name": "ipython",
    "version": 3
   },
   "file_extension": ".py",
   "mimetype": "text/x-python",
   "name": "python",
   "nbconvert_exporter": "python",
   "pygments_lexer": "ipython3",
   "version": "3.10.4"
  },
  "orig_nbformat": 4,
  "vscode": {
   "interpreter": {
    "hash": "c420c3282b1967b20971105aa2b2eb96b656bc3288e817cc4c5518f4cecbfb5a"
   }
  }
 },
 "nbformat": 4,
 "nbformat_minor": 2
}
