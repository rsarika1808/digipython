{
 "cells": [
  {
   "cell_type": "code",
   "execution_count": 2,
   "metadata": {},
   "outputs": [],
   "source": [
    "import os\n",
    "import requests\n",
    "import datetime\n",
    "import os\n",
    "import requests\n",
    "import datetime\n",
    "from bs4 import BeautifulSoup\n",
    "\n",
    "\n",
    "def get_soup(url):\n",
    "    r= requests.get(url)\n",
    "    if r.status_code==200:\n",
    "        return BeautifulSoup(r.text,'html5lib')\n",
    "    return None\n",
    "from bs4 import BeautifulSoup\n",
    "\n",
    "\n",
    "def get_soup(url):\n",
    "    r= requests.get(url)\n",
    "    if r.status_code==200:\n",
    "        return BeautifulSoup(r.text,'html5lib')\n",
    "    return None\n"
   ]
  },
  {
   "cell_type": "code",
   "execution_count": 3,
   "metadata": {},
   "outputs": [],
   "source": [
    "url ='https://www.flikart.com/seaech?q=tv&otracker1=search&marketplace=FLIPKART&as-show=on&as=off'\n",
    "soup=get_soup(url)"
   ]
  },
  {
   "cell_type": "code",
   "execution_count": 4,
   "metadata": {},
   "outputs": [],
   "source": [
    "target =soup.find('div,class_=1YokD2_3Mn1Gg')\n",
    "if target is not None:\n",
    "    print('target found')"
   ]
  },
  {
   "cell_type": "code",
   "execution_count": null,
   "metadata": {},
   "outputs": [],
   "source": [
    "items =target.find_all('div',class_ '1AtvbEcol-12-12')\n",
    "print(f'Found{len(items)}items')"
   ]
  },
  {
   "cell_type": "code",
   "execution_count": null,
   "metadata": {},
   "outputs": [],
   "source": [
    "for item in items:\n",
    "    title =item.find('div',class_='_4rRo1T')\n",
    "    sell_price=item.find('div',class_='30jeq3_1_WHN1')\n",
    "    orig_price =item.find('div',class_='3I9_wc_27ucVY')\n",
    "    rating=item.find('div',class_='3LWZ1K')\n",
    "    num_rating =item.find('span',class_='_2_r_DZ')\n",
    "    if title:\n",
    "        print(title.text.strip())\n",
    "        if sell_price:\n",
    "            print(sell_price.text.strip())\n",
    "        if orig_price:\n",
    "                print(orig_price.text.strip())\n",
    "    if rating:\n",
    "        print(rating.text.strip())\n",
    "    if num_rating:\n",
    "        print(num_rating.text.strip())\n"
   ]
  }
 ],
 "metadata": {
  "kernelspec": {
   "display_name": "Python 3.10.4 ('base')",
   "language": "python",
   "name": "python3"
  },
  "language_info": {
   "codemirror_mode": {
    "name": "ipython",
    "version": 3
   },
   "file_extension": ".py",
   "mimetype": "text/x-python",
   "name": "python",
   "nbconvert_exporter": "python",
   "pygments_lexer": "ipython3",
   "version": "3.10.4"
  },
  "orig_nbformat": 4,
  "vscode": {
   "interpreter": {
    "hash": "c420c3282b1967b20971105aa2b2eb96b656bc3288e817cc4c5518f4cecbfb5a"
   }
  }
 },
 "nbformat": 4,
 "nbformat_minor": 2
}
