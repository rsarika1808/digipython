{
 "cells": [
  {
   "cell_type": "code",
   "execution_count": 11,
   "metadata": {},
   "outputs": [],
   "source": [
    "\n",
    "def get_soup(url):\n",
    "    r =request.get(url)\n",
    "    if r.status_code ==200:\n",
    "        return BeautifulSoup(r.text)\n",
    "        return None"
   ]
  },
  {
   "cell_type": "code",
   "execution_count": null,
   "metadata": {},
   "outputs": [],
   "source": [
    "url =\"https:// www.ndtv.com/latest\"\n",
    "soup =get_soup(url)"
   ]
  },
  {
   "cell_type": "code",
   "execution_count": null,
   "metadata": {},
   "outputs": [],
   "source": [
    "target=soup.find(\"div\",{\"class\":\"lisingNews\"})"
   ]
  },
  {
   "cell_type": "code",
   "execution_count": null,
   "metadata": {},
   "outputs": [],
   "source": [
    "print(target.prettify())"
   ]
  },
  {
   "cell_type": "code",
   "execution_count": null,
   "metadata": {},
   "outputs": [],
   "source": [
    "items =target.find_all(\"div\",{\"class\":\"news_Itm\"})\n",
    "print(\"we found {len(items)}items\")"
   ]
  },
  {
   "cell_type": "code",
   "execution_count": null,
   "metadata": {},
   "outputs": [],
   "source": [
    "for news in items:\n",
    "    heading =news.find(\"h2\",class_=\"newsHdng\")\n",
    "    source =news.find('span',class_='posted-by')"
   ]
  },
  {
   "cell_type": "code",
   "execution_count": null,
   "metadata": {},
   "outputs": [],
   "source": [
    "input in [21]\n",
    "source =news.find('span',class_='posted-by')\n",
    "sytaxError:invalid syntax\n"
   ]
  },
  {
   "cell_type": "code",
   "execution_count": null,
   "metadata": {},
   "outputs": [],
   "source": [
    "for news in items:\n",
    "    heading =news.find(\"h2\",class_=\"newsHdng\")\n",
    "    source =news.find('span',class_='posted-by')\n",
    "    content =news.find('p',class_='newscount')\n",
    "    if heading is not None:\n",
    "        print(heading.text)\n",
    "        print(source.text)\n",
    "        print(content.text)\n",
    "        print()"
   ]
  }
 ],
 "metadata": {
  "kernelspec": {
   "display_name": "Python 3.10.4 ('base')",
   "language": "python",
   "name": "python3"
  },
  "language_info": {
   "codemirror_mode": {
    "name": "ipython",
    "version": 3
   },
   "file_extension": ".py",
   "mimetype": "text/x-python",
   "name": "python",
   "nbconvert_exporter": "python",
   "pygments_lexer": "ipython3",
   "version": "3.10.4"
  },
  "orig_nbformat": 4,
  "vscode": {
   "interpreter": {
    "hash": "c420c3282b1967b20971105aa2b2eb96b656bc3288e817cc4c5518f4cecbfb5a"
   }
  }
 },
 "nbformat": 4,
 "nbformat_minor": 2
}
